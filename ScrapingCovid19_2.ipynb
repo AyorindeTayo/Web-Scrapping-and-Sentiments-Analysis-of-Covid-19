{
  "cells": [
    {
      "cell_type": "markdown",
      "metadata": {
        "id": "view-in-github",
        "colab_type": "text"
      },
      "source": [
        "<a href=\"https://colab.research.google.com/github/AyorindeTayo/Web-Scrapping-and-Sentiments-Analysis-of-Covid-19/blob/main/ScrapingCovid19_2.ipynb\" target=\"_parent\"><img src=\"https://colab.research.google.com/assets/colab-badge.svg\" alt=\"Open In Colab\"/></a>"
      ]
    },
    {
      "cell_type": "markdown",
      "metadata": {
        "id": "uM2upe0Z_LCj"
      },
      "source": [
        "**1. Import packages**\n",
        "\n"
      ]
    },
    {
      "cell_type": "code",
      "execution_count": null,
      "metadata": {
        "colab": {
          "base_uri": "https://localhost:8080/"
        },
        "id": "bderKrl1vN-Z",
        "outputId": "47b9e0e1-044e-48ba-e8db-0170f6d6b931"
      },
      "outputs": [
        {
          "output_type": "stream",
          "name": "stdout",
          "text": [
            "Looking in indexes: https://pypi.org/simple, https://us-python.pkg.dev/colab-wheels/public/simple/\n",
            "Requirement already satisfied: tweepy in /usr/local/lib/python3.8/dist-packages (3.10.0)\n",
            "Requirement already satisfied: requests-oauthlib>=0.7.0 in /usr/local/lib/python3.8/dist-packages (from tweepy) (1.3.1)\n",
            "Requirement already satisfied: requests[socks]>=2.11.1 in /usr/local/lib/python3.8/dist-packages (from tweepy) (2.25.1)\n",
            "Requirement already satisfied: six>=1.10.0 in /usr/local/lib/python3.8/dist-packages (from tweepy) (1.15.0)\n",
            "Requirement already satisfied: oauthlib>=3.0.0 in /usr/local/lib/python3.8/dist-packages (from requests-oauthlib>=0.7.0->tweepy) (3.2.2)\n",
            "Requirement already satisfied: idna<3,>=2.5 in /usr/local/lib/python3.8/dist-packages (from requests[socks]>=2.11.1->tweepy) (2.10)\n",
            "Requirement already satisfied: urllib3<1.27,>=1.21.1 in /usr/local/lib/python3.8/dist-packages (from requests[socks]>=2.11.1->tweepy) (1.24.3)\n",
            "Requirement already satisfied: certifi>=2017.4.17 in /usr/local/lib/python3.8/dist-packages (from requests[socks]>=2.11.1->tweepy) (2022.12.7)\n",
            "Requirement already satisfied: chardet<5,>=3.0.2 in /usr/local/lib/python3.8/dist-packages (from requests[socks]>=2.11.1->tweepy) (4.0.0)\n",
            "Requirement already satisfied: PySocks!=1.5.7,>=1.5.6 in /usr/local/lib/python3.8/dist-packages (from requests[socks]>=2.11.1->tweepy) (1.7.1)\n"
          ]
        }
      ],
      "source": [
        "pip install tweepy"
      ]
    },
    {
      "cell_type": "code",
      "execution_count": null,
      "metadata": {
        "id": "iYMUD5ndwMV_"
      },
      "outputs": [],
      "source": [
        "import os\n",
        "import tweepy\n",
        "import tweepy as tw\n",
        "import pandas as pd\n",
        "from tqdm import tqdm, notebook\n",
        "\n",
        "pd.set_option('display.max_columns', None)\n",
        "pd.set_option('display.max_rows', None)\n",
        "pd.set_option('display.max_colwidth', None)\n",
        "pd.set_option('display.width', None)"
      ]
    },
    {
      "cell_type": "markdown",
      "metadata": {
        "id": "jnTHZkgb_UiB"
      },
      "source": [
        "**2. Twitter API authentication**"
      ]
    },
    {
      "cell_type": "code",
      "execution_count": null,
      "metadata": {
        "id": "cthgiqVywOQg"
      },
      "outputs": [],
      "source": [
        "consumer_api_key = (\"\")\n",
        "consumer_api_secret = (\"\")\n",
        "consumer_token = (\"\")\n",
        "consumer_token_secret = (\"\")"
      ]
    },
    {
      "cell_type": "code",
      "execution_count": null,
      "metadata": {
        "id": "Cipc7A4Mwa8C"
      },
      "outputs": [],
      "source": [
        "auth = tweepy.OAuthHandler(consumer_api_key, consumer_api_secret)\n"
      ]
    },
    {
      "cell_type": "code",
      "execution_count": null,
      "metadata": {
        "id": "vOhHzLeEkvEz"
      },
      "outputs": [],
      "source": [
        "auth.set_access_token(consumer_token, consumer_token_secret)"
      ]
    },
    {
      "cell_type": "code",
      "execution_count": null,
      "metadata": {
        "id": "0w0GlKNtx02d"
      },
      "outputs": [],
      "source": [
        "api = tweepy.API(auth, wait_on_rate_limit=True)"
      ]
    },
    {
      "cell_type": "markdown",
      "metadata": {
        "id": "2Y-jA6Es_ZGE"
      },
      "source": [
        "**3. Tweets query**"
      ]
    },
    {
      "cell_type": "markdown",
      "metadata": {
        "id": "toC481sI_eqr"
      },
      "source": [
        "3.1. Define the query"
      ]
    },
    {
      "cell_type": "code",
      "execution_count": null,
      "metadata": {
        "id": "gAo5XlTxyVTX"
      },
      "outputs": [],
      "source": [
        "search_words = \"#COVID-19 subvariant XBB.1.5 -filter:retweets\" \n",
        "date_since = \"2022-10-15\"\n",
        "# Collect tweets\n",
        "tweets = tw.Cursor(api.search,\n",
        "              q=search_words,\n",
        "              lang=\"en\",\n",
        "              since=date_since).items(12452)"
      ]
    },
    {
      "cell_type": "code",
      "execution_count": null,
      "metadata": {
        "colab": {
          "base_uri": "https://localhost:8080/"
        },
        "id": "xwoUo5s9lNWk",
        "outputId": "5aaf35d8-483c-4be5-a8d2-5ed12cc89dfd"
      },
      "outputs": [
        {
          "output_type": "stream",
          "name": "stdout",
          "text": [
            "RT @Newsfilter2: New Zealand's biggest mass murder and COVID thug, Jacinda Ardern, has resigned. Now she needs to be dragged to the Hague a…\n"
          ]
        }
      ],
      "source": [
        "\n",
        "results = api.search(q='COVID-19 ', count=100)\n",
        "\n",
        "print(results[1].text)"
      ]
    },
    {
      "cell_type": "code",
      "execution_count": null,
      "metadata": {
        "id": "ffBxgWUcg5Z8"
      },
      "outputs": [],
      "source": [
        "from tqdm import tqdm"
      ]
    },
    {
      "cell_type": "code",
      "execution_count": null,
      "metadata": {
        "colab": {
          "base_uri": "https://localhost:8080/"
        },
        "id": "JbfgMlcx7bhJ",
        "outputId": "0570fadf-df96-4f85-e44a-cbdc8ac82c46"
      },
      "outputs": [
        {
          "output_type": "stream",
          "name": "stdout",
          "text": [
            "Looking in indexes: https://pypi.org/simple, https://us-python.pkg.dev/colab-wheels/public/simple/\n",
            "Requirement already satisfied: tqdm in /usr/local/lib/python3.8/dist-packages (4.64.1)\n"
          ]
        }
      ],
      "source": [
        "pip install tqdm"
      ]
    },
    {
      "cell_type": "code",
      "execution_count": null,
      "metadata": {
        "id": "mxcsp7fR-ERq"
      },
      "outputs": [],
      "source": [
        "from __future__ import unicode_literals"
      ]
    },
    {
      "cell_type": "markdown",
      "metadata": {
        "id": "xSliRMKZ_qWy"
      },
      "source": [
        "3.2. Retreive the tweets"
      ]
    },
    {
      "cell_type": "code",
      "execution_count": null,
      "metadata": {
        "colab": {
          "base_uri": "https://localhost:8080/"
        },
        "id": "E1ym9pahyYZm",
        "outputId": "16335e46-74db-425b-f5dd-b5c574fac0e6"
      },
      "outputs": [
        {
          "output_type": "stream",
          "name": "stderr",
          "text": [
            "520it [00:08, 58.39it/s]\n"
          ]
        }
      ],
      "source": [
        "tweets_copy = []\n",
        "for tweet in tqdm(tweets):\n",
        "     tweets_copy.append(tweet)\n"
      ]
    },
    {
      "cell_type": "code",
      "execution_count": null,
      "metadata": {
        "colab": {
          "base_uri": "https://localhost:8080/"
        },
        "id": "I2h8Uui7_2eO",
        "outputId": "62747507-9bc5-436a-ac65-f46afafbeae7"
      },
      "outputs": [
        {
          "output_type": "stream",
          "name": "stdout",
          "text": [
            "new tweets retrieved: 520\n"
          ]
        }
      ],
      "source": [
        "print(f\"new tweets retrieved: {len(tweets_copy)}\")"
      ]
    },
    {
      "cell_type": "markdown",
      "metadata": {
        "id": "McQXKYJa_xRv"
      },
      "source": [
        "\n",
        "**4. Populate the dataset**"
      ]
    },
    {
      "cell_type": "code",
      "execution_count": null,
      "metadata": {
        "colab": {
          "base_uri": "https://localhost:8080/"
        },
        "id": "lT_TORjj17h2",
        "outputId": "6531d654-a145-431e-8b4f-2fa63bf7c8e1"
      },
      "outputs": [
        {
          "output_type": "stream",
          "name": "stderr",
          "text": [
            "100%|██████████| 520/520 [00:58<00:00,  8.94it/s]\n"
          ]
        }
      ],
      "source": [
        "tweets_df = pd.DataFrame()\n",
        "for tweet in tqdm(tweets_copy):\n",
        "    hashtags = []\n",
        "    try:\n",
        "        for hashtag in tweet.entities[\"hashtags\"]:\n",
        "            hashtags.append(hashtag[\"text\"])\n",
        "        text = api.get_status(id=tweet.id, tweet_mode='extended').full_text\n",
        "    except:\n",
        "        pass\n",
        "    tweets_df = tweets_df.append(pd.DataFrame({'user_name': tweet.user.name, \n",
        "                                               'user_location': tweet.user.location,\\\n",
        "                                               'user_description': tweet.user.description,\n",
        "                                               'user_created': tweet.user.created_at,\n",
        "                                               'user_followers': tweet.user.followers_count,\n",
        "                                               'user_friends': tweet.user.friends_count,\n",
        "                                               'user_favourites': tweet.user.favourites_count,\n",
        "                                               'user_verified': tweet.user.verified,\n",
        "                                               'text':tweet.text,\n",
        "                                               'date': tweet.created_at,\n",
        "\n",
        "                                               'hashtags': [hashtags if hashtags else None],\n",
        "                                               'source': tweet.source,\n",
        "                                               'is_retweet': tweet.retweeted}, index=[0]))"
      ]
    },
    {
      "cell_type": "code",
      "execution_count": null,
      "metadata": {
        "colab": {
          "base_uri": "https://localhost:8080/",
          "height": 719
        },
        "id": "IgTyoVcXAf9K",
        "outputId": "c1aef39c-ac8a-4036-b042-dae806044cb6"
      },
      "outputs": [
        {
          "output_type": "execute_result",
          "data": {
            "text/plain": [
              "                                          user_name    user_location  \\\n",
              "0                                     Paul Phillips                    \n",
              "0                                             Barry    Chester Basin   \n",
              "0  The People's Response Network to COVID-19(PRN)💉😷      Chicago, IL   \n",
              "0                              StephanieCzekalinski  Cleveland, Ohio   \n",
              "0                                       expertbeans     Assam, India   \n",
              "\n",
              "                                                                                                                                     user_description  \\\n",
              "0                                                                                                                                                       \n",
              "0                                                                                                                                  waiting for spring   \n",
              "0  Working to erase Chicago's racial disparities in mitigating COVID-19 by rebuilding Chgo's public health infrastructure via Ordinance (O2021-1214).   \n",
              "0                                                          Journalist's journalist. Unpublished novelist. Undercover poet. Long live kitchen anarchy!   \n",
              "0                                                                                                                Learning Full stack web development📈   \n",
              "\n",
              "         user_created  user_followers  user_friends  user_favourites  \\\n",
              "0 2016-04-24 15:20:14             117           429             7381   \n",
              "0 2013-01-26 23:05:19              65           712             6958   \n",
              "0 2021-04-02 21:05:41             529          1425             7323   \n",
              "0 2011-07-19 14:43:36             950          1630             1820   \n",
              "0 2022-05-18 15:02:12              86            31             1704   \n",
              "\n",
              "   user_verified  \\\n",
              "0          False   \n",
              "0          False   \n",
              "0          False   \n",
              "0           True   \n",
              "0          False   \n",
              "\n",
              "                                                                                                                                           text  \\\n",
              "0                                        What to know about XBB.1.5, a new and highly transmissible COVID-19 subvariant https://t.co/3o0eQ8SsFF   \n",
              "0                                        What to know about XBB.1.5, a new and highly transmissible COVID-19 subvariant https://t.co/EVaW2Q9NAZ   \n",
              "0  The World Health Organization on Friday updated its mask guidance as the highly contagious omicron subvariant XBB.1… https://t.co/pVh2pV4o9t   \n",
              "0  XBB.1.5 is a new omicron subvariant that last week accounted for about 43% of cases nationwide, according to the Ce… https://t.co/Byuf9pgvLo   \n",
              "0        What to know about XBB.1.5, a new and highly transmissible COVID-19 subvariant #UI via https://t.co/o6bovrSR1D https://t.co/PNE2rED5SU   \n",
              "\n",
              "                 date hashtags               source  is_retweet  \n",
              "0 2023-01-20 02:44:40     None      Twitter Web App       False  \n",
              "0 2023-01-19 23:09:43     None  Twitter for Android       False  \n",
              "0 2023-01-19 21:53:51     None     Twitter for iPad       False  \n",
              "0 2023-01-19 21:39:18     None      Twitter Web App       False  \n",
              "0 2023-01-19 21:30:37     [UI]            TwinyBots       False  "
            ],
            "text/html": [
              "\n",
              "  <div id=\"df-667b9e24-ff4c-4304-aa75-7aadfcf650e7\">\n",
              "    <div class=\"colab-df-container\">\n",
              "      <div>\n",
              "<style scoped>\n",
              "    .dataframe tbody tr th:only-of-type {\n",
              "        vertical-align: middle;\n",
              "    }\n",
              "\n",
              "    .dataframe tbody tr th {\n",
              "        vertical-align: top;\n",
              "    }\n",
              "\n",
              "    .dataframe thead th {\n",
              "        text-align: right;\n",
              "    }\n",
              "</style>\n",
              "<table border=\"1\" class=\"dataframe\">\n",
              "  <thead>\n",
              "    <tr style=\"text-align: right;\">\n",
              "      <th></th>\n",
              "      <th>user_name</th>\n",
              "      <th>user_location</th>\n",
              "      <th>user_description</th>\n",
              "      <th>user_created</th>\n",
              "      <th>user_followers</th>\n",
              "      <th>user_friends</th>\n",
              "      <th>user_favourites</th>\n",
              "      <th>user_verified</th>\n",
              "      <th>text</th>\n",
              "      <th>date</th>\n",
              "      <th>hashtags</th>\n",
              "      <th>source</th>\n",
              "      <th>is_retweet</th>\n",
              "    </tr>\n",
              "  </thead>\n",
              "  <tbody>\n",
              "    <tr>\n",
              "      <th>0</th>\n",
              "      <td>Paul Phillips</td>\n",
              "      <td></td>\n",
              "      <td></td>\n",
              "      <td>2016-04-24 15:20:14</td>\n",
              "      <td>117</td>\n",
              "      <td>429</td>\n",
              "      <td>7381</td>\n",
              "      <td>False</td>\n",
              "      <td>What to know about XBB.1.5, a new and highly transmissible COVID-19 subvariant https://t.co/3o0eQ8SsFF</td>\n",
              "      <td>2023-01-20 02:44:40</td>\n",
              "      <td>None</td>\n",
              "      <td>Twitter Web App</td>\n",
              "      <td>False</td>\n",
              "    </tr>\n",
              "    <tr>\n",
              "      <th>0</th>\n",
              "      <td>Barry</td>\n",
              "      <td>Chester Basin</td>\n",
              "      <td>waiting for spring</td>\n",
              "      <td>2013-01-26 23:05:19</td>\n",
              "      <td>65</td>\n",
              "      <td>712</td>\n",
              "      <td>6958</td>\n",
              "      <td>False</td>\n",
              "      <td>What to know about XBB.1.5, a new and highly transmissible COVID-19 subvariant https://t.co/EVaW2Q9NAZ</td>\n",
              "      <td>2023-01-19 23:09:43</td>\n",
              "      <td>None</td>\n",
              "      <td>Twitter for Android</td>\n",
              "      <td>False</td>\n",
              "    </tr>\n",
              "    <tr>\n",
              "      <th>0</th>\n",
              "      <td>The People's Response Network to COVID-19(PRN)💉😷</td>\n",
              "      <td>Chicago, IL</td>\n",
              "      <td>Working to erase Chicago's racial disparities in mitigating COVID-19 by rebuilding Chgo's public health infrastructure via Ordinance (O2021-1214).</td>\n",
              "      <td>2021-04-02 21:05:41</td>\n",
              "      <td>529</td>\n",
              "      <td>1425</td>\n",
              "      <td>7323</td>\n",
              "      <td>False</td>\n",
              "      <td>The World Health Organization on Friday updated its mask guidance as the highly contagious omicron subvariant XBB.1… https://t.co/pVh2pV4o9t</td>\n",
              "      <td>2023-01-19 21:53:51</td>\n",
              "      <td>None</td>\n",
              "      <td>Twitter for iPad</td>\n",
              "      <td>False</td>\n",
              "    </tr>\n",
              "    <tr>\n",
              "      <th>0</th>\n",
              "      <td>StephanieCzekalinski</td>\n",
              "      <td>Cleveland, Ohio</td>\n",
              "      <td>Journalist's journalist. Unpublished novelist. Undercover poet. Long live kitchen anarchy!</td>\n",
              "      <td>2011-07-19 14:43:36</td>\n",
              "      <td>950</td>\n",
              "      <td>1630</td>\n",
              "      <td>1820</td>\n",
              "      <td>True</td>\n",
              "      <td>XBB.1.5 is a new omicron subvariant that last week accounted for about 43% of cases nationwide, according to the Ce… https://t.co/Byuf9pgvLo</td>\n",
              "      <td>2023-01-19 21:39:18</td>\n",
              "      <td>None</td>\n",
              "      <td>Twitter Web App</td>\n",
              "      <td>False</td>\n",
              "    </tr>\n",
              "    <tr>\n",
              "      <th>0</th>\n",
              "      <td>expertbeans</td>\n",
              "      <td>Assam, India</td>\n",
              "      <td>Learning Full stack web development📈</td>\n",
              "      <td>2022-05-18 15:02:12</td>\n",
              "      <td>86</td>\n",
              "      <td>31</td>\n",
              "      <td>1704</td>\n",
              "      <td>False</td>\n",
              "      <td>What to know about XBB.1.5, a new and highly transmissible COVID-19 subvariant #UI via https://t.co/o6bovrSR1D https://t.co/PNE2rED5SU</td>\n",
              "      <td>2023-01-19 21:30:37</td>\n",
              "      <td>[UI]</td>\n",
              "      <td>TwinyBots</td>\n",
              "      <td>False</td>\n",
              "    </tr>\n",
              "  </tbody>\n",
              "</table>\n",
              "</div>\n",
              "      <button class=\"colab-df-convert\" onclick=\"convertToInteractive('df-667b9e24-ff4c-4304-aa75-7aadfcf650e7')\"\n",
              "              title=\"Convert this dataframe to an interactive table.\"\n",
              "              style=\"display:none;\">\n",
              "        \n",
              "  <svg xmlns=\"http://www.w3.org/2000/svg\" height=\"24px\"viewBox=\"0 0 24 24\"\n",
              "       width=\"24px\">\n",
              "    <path d=\"M0 0h24v24H0V0z\" fill=\"none\"/>\n",
              "    <path d=\"M18.56 5.44l.94 2.06.94-2.06 2.06-.94-2.06-.94-.94-2.06-.94 2.06-2.06.94zm-11 1L8.5 8.5l.94-2.06 2.06-.94-2.06-.94L8.5 2.5l-.94 2.06-2.06.94zm10 10l.94 2.06.94-2.06 2.06-.94-2.06-.94-.94-2.06-.94 2.06-2.06.94z\"/><path d=\"M17.41 7.96l-1.37-1.37c-.4-.4-.92-.59-1.43-.59-.52 0-1.04.2-1.43.59L10.3 9.45l-7.72 7.72c-.78.78-.78 2.05 0 2.83L4 21.41c.39.39.9.59 1.41.59.51 0 1.02-.2 1.41-.59l7.78-7.78 2.81-2.81c.8-.78.8-2.07 0-2.86zM5.41 20L4 18.59l7.72-7.72 1.47 1.35L5.41 20z\"/>\n",
              "  </svg>\n",
              "      </button>\n",
              "      \n",
              "  <style>\n",
              "    .colab-df-container {\n",
              "      display:flex;\n",
              "      flex-wrap:wrap;\n",
              "      gap: 12px;\n",
              "    }\n",
              "\n",
              "    .colab-df-convert {\n",
              "      background-color: #E8F0FE;\n",
              "      border: none;\n",
              "      border-radius: 50%;\n",
              "      cursor: pointer;\n",
              "      display: none;\n",
              "      fill: #1967D2;\n",
              "      height: 32px;\n",
              "      padding: 0 0 0 0;\n",
              "      width: 32px;\n",
              "    }\n",
              "\n",
              "    .colab-df-convert:hover {\n",
              "      background-color: #E2EBFA;\n",
              "      box-shadow: 0px 1px 2px rgba(60, 64, 67, 0.3), 0px 1px 3px 1px rgba(60, 64, 67, 0.15);\n",
              "      fill: #174EA6;\n",
              "    }\n",
              "\n",
              "    [theme=dark] .colab-df-convert {\n",
              "      background-color: #3B4455;\n",
              "      fill: #D2E3FC;\n",
              "    }\n",
              "\n",
              "    [theme=dark] .colab-df-convert:hover {\n",
              "      background-color: #434B5C;\n",
              "      box-shadow: 0px 1px 3px 1px rgba(0, 0, 0, 0.15);\n",
              "      filter: drop-shadow(0px 1px 2px rgba(0, 0, 0, 0.3));\n",
              "      fill: #FFFFFF;\n",
              "    }\n",
              "  </style>\n",
              "\n",
              "      <script>\n",
              "        const buttonEl =\n",
              "          document.querySelector('#df-667b9e24-ff4c-4304-aa75-7aadfcf650e7 button.colab-df-convert');\n",
              "        buttonEl.style.display =\n",
              "          google.colab.kernel.accessAllowed ? 'block' : 'none';\n",
              "\n",
              "        async function convertToInteractive(key) {\n",
              "          const element = document.querySelector('#df-667b9e24-ff4c-4304-aa75-7aadfcf650e7');\n",
              "          const dataTable =\n",
              "            await google.colab.kernel.invokeFunction('convertToInteractive',\n",
              "                                                     [key], {});\n",
              "          if (!dataTable) return;\n",
              "\n",
              "          const docLinkHtml = 'Like what you see? Visit the ' +\n",
              "            '<a target=\"_blank\" href=https://colab.research.google.com/notebooks/data_table.ipynb>data table notebook</a>'\n",
              "            + ' to learn more about interactive tables.';\n",
              "          element.innerHTML = '';\n",
              "          dataTable['output_type'] = 'display_data';\n",
              "          await google.colab.output.renderOutput(dataTable, element);\n",
              "          const docLink = document.createElement('div');\n",
              "          docLink.innerHTML = docLinkHtml;\n",
              "          element.appendChild(docLink);\n",
              "        }\n",
              "      </script>\n",
              "    </div>\n",
              "  </div>\n",
              "  "
            ]
          },
          "metadata": {},
          "execution_count": 16
        }
      ],
      "source": [
        "\n",
        "tweets_df.head()"
      ]
    },
    {
      "cell_type": "markdown",
      "metadata": {
        "id": "wkyUlJ0PADKU"
      },
      "source": [
        "**5. Save the data**"
      ]
    },
    {
      "cell_type": "markdown",
      "metadata": {
        "id": "_jdO5wQs-Jfz"
      },
      "source": [
        "5.1 Drop duplicates"
      ]
    },
    {
      "cell_type": "markdown",
      "metadata": {
        "id": "wgZPgz9l-n42"
      },
      "source": [
        "5.2 Export the updated data"
      ]
    },
    {
      "cell_type": "code",
      "execution_count": null,
      "metadata": {
        "id": "oNmfyNEh-piN"
      },
      "outputs": [],
      "source": [
        "\n",
        "tweets_df.to_csv(\"covid19b_tweets.csv\", index=False)"
      ]
    }
  ],
  "metadata": {
    "colab": {
      "provenance": [],
      "authorship_tag": "ABX9TyNEndsp/NmP9/ktLspHhq4y",
      "include_colab_link": true
    },
    "kernelspec": {
      "display_name": "Python 3",
      "name": "python3"
    },
    "language_info": {
      "name": "python"
    }
  },
  "nbformat": 4,
  "nbformat_minor": 0
}